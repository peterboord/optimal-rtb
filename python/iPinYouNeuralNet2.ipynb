{
 "cells": [
  {
   "cell_type": "markdown",
   "metadata": {},
   "source": [
    "# Estimating Click Through Rate for Real-Time Bidding\n",
    "iPinYou: Global Bidding Algorithm Competition\n",
    "http://contest.ipinyou.com/introduction.shtml\n",
    "http://contest.ipinyou.com/manual.shtml\n",
    "http://contest.ipinyou.com/data"
   ]
  },
  {
   "cell_type": "markdown",
   "metadata": {},
   "source": [
    "<img class=\"avia_image \" src=\"http://www.mediative.com/wp-content/uploads/2015/01/REal-time-bidding.png\" alt=\"Real time bidding\" title=\"Real time bidding\" itemprop=\"contentURL\">\n",
    "http://www.mediative.com/wp-content/uploads/2015/01/REal-time-bidding.png"
   ]
  },
  {
   "cell_type": "code",
   "execution_count": null,
   "metadata": {
    "collapsed": true
   },
   "outputs": [],
   "source": [
    "import sys\n",
    "import random\n",
    "import math\n",
    "import operator\n",
    "from sklearn.metrics import roc_auc_score, roc_curve\n",
    "from sklearn.metrics import mean_squared_error\n",
    "import sklearn\n",
    "import sklearn.datasets\n",
    "import sklearn.linear_model\n",
    "import os.path\n",
    "from IPython.core.debugger import Tracer\n",
    "import numpy as np\n",
    "import matplotlib as mpl\n",
    "from matplotlib import pyplot as plt\n",
    "%matplotlib inline\n",
    "import time"
   ]
  },
  {
   "cell_type": "code",
   "execution_count": null,
   "metadata": {
    "collapsed": false
   },
   "outputs": [],
   "source": [
    "campaign=\"2997\"\n",
    "#campaign=\"3358\"\n",
    "folder='../../make-ipinyou-data'\n",
    "resultsfolder='../results'\n",
    "trainYzxFile=os.path.join(folder,campaign,'train.yzx.txt')\n",
    "testYzxFile=os.path.join(folder,campaign,'test.yzx.txt')"
   ]
  },
  {
   "cell_type": "code",
   "execution_count": null,
   "metadata": {
    "collapsed": true
   },
   "outputs": [],
   "source": [
    "bufferCaseNum = 1000000\n",
    "eta = 0.01 # learning rate\n",
    "lamb = 1E-6 # regularization parameter\n",
    "featWeight = {}\n",
    "random.seed(10)\n",
    "initWeight = 0.05\n",
    "\n",
    "def nextInitWeight():\n",
    "    return (random.random() - 0.5) * initWeight\n",
    "def ints(s):\n",
    "    res = []\n",
    "    for ss in s:\n",
    "        res.append(int(ss))\n",
    "    return res\n",
    "def sigmoid(p):\n",
    "    return 1.0 / (1.0 + math.exp(-p))"
   ]
  },
  {
   "cell_type": "markdown",
   "metadata": {},
   "source": [
    "# Training: LOGISTIC REGRESSION"
   ]
  },
  {
   "cell_type": "code",
   "execution_count": null,
   "metadata": {
    "collapsed": false
   },
   "outputs": [],
   "source": [
    "fi = open(trainYzxFile, 'r')\n",
    "bufLineNum = 0\n",
    "trainData = []\n",
    "y = []\n",
    "yp = []\n",
    "time1 = time.time()\n",
    "for line in fi:\n",
    "    bufLineNum = (bufLineNum + 1) % bufferCaseNum\n",
    "    trainData.append(ints(line.replace(\":1\", \"\").split()))\n",
    "    if bufLineNum == 0:\n",
    "        for data in trainData:\n",
    "            clk = data[0]\n",
    "            mp = data[1]\n",
    "            fsid = 2 # feature start id\n",
    "            # predict\n",
    "            pred = 0.0\n",
    "            for i in range(fsid, len(data)):\n",
    "                feat = data[i]\n",
    "                if feat not in featWeight:\n",
    "                    featWeight[feat] = nextInitWeight()\n",
    "                pred += featWeight[feat]\n",
    "            pred = sigmoid(pred)\n",
    "            y.append(clk)\n",
    "            yp.append(pred)\n",
    "            # start to update weight\n",
    "            # w_i = w_i + learning_rate * [ (y - p) * x_i - lamb * w_i ] \n",
    "            for i in range(fsid, len(data)):\n",
    "                feat = data[i]\n",
    "                featWeight[feat] = featWeight[feat] * (1 - lamb) + eta * (clk - pred)\n",
    "        trainData = []\n",
    "# complete iterations when nr lines < bufferCaseNum\n",
    "if len(trainData) > 0:\n",
    "    for data in trainData:\n",
    "        clk = data[0] # click\n",
    "        mp = data[1] # market price\n",
    "        fsid = 2 # feature start id\n",
    "        # predict\n",
    "        pred = 0.0\n",
    "        for i in range(fsid, len(data)):\n",
    "            feat = data[i]\n",
    "            if feat not in featWeight:\n",
    "                featWeight[feat] = nextInitWeight()\n",
    "            pred += featWeight[feat]\n",
    "        pred = sigmoid(pred)\n",
    "        y.append(clk)\n",
    "        yp.append(pred)\n",
    "        # start to update weight\n",
    "        # w_i = w_i + learning_rate * [ (y - p) * x_i - lamb * w_i ]\n",
    "        for i in range(fsid, len(data)):\n",
    "            feat = data[i]\n",
    "            featWeight[feat] = featWeight[feat] * (1 - lamb) + eta * (clk - pred)\n",
    "fi.close()\n",
    "time2 = time.time()\n",
    "print 'LR duration:' + '\\t' + str(time2 - time1)\n",
    "auc = roc_auc_score(y, yp)\n",
    "rmse = math.sqrt(mean_squared_error(y, yp))\n",
    "print 'LR Train: ' + '\\t' + str(auc) + '\\t' + str(rmse)\n",
    "fpr, tpr, thresholds = roc_curve(y, yp)"
   ]
  },
  {
   "cell_type": "code",
   "execution_count": null,
   "metadata": {
    "collapsed": false
   },
   "outputs": [],
   "source": [
    "plt.figure()\n",
    "lw = 2\n",
    "plt.plot(fpr, tpr, color='darkorange',\n",
    "         lw=lw, label='ROC curve (area = %0.2f)' % auc)\n",
    "plt.plot([0, 1], [0, 1], color='navy', lw=lw, linestyle='--')\n",
    "plt.xlim([0.0, 1.0])\n",
    "plt.ylim([0.0, 1.05])\n",
    "plt.xlabel('False Positive Rate')\n",
    "plt.ylabel('True Positive Rate')\n",
    "plt.title('LR Training Receiver operating characteristic')\n",
    "plt.legend(loc=\"lower right\")\n",
    "plt.show()"
   ]
  },
  {
   "cell_type": "markdown",
   "metadata": {},
   "source": [
    "# Training: NEURAL NETS"
   ]
  },
  {
   "cell_type": "code",
   "execution_count": null,
   "metadata": {
    "collapsed": false
   },
   "outputs": [],
   "source": [
    "firstFeatNr = 27\n",
    "nrFeat = len(featWeight)\n",
    "print 'Nr features: ' + str(nrFeat)\n",
    "nn_input_dim = nrFeat\n",
    "nn_hdim = 10\n",
    "nn_output_dim = 2\n",
    "num_passes = 1\n",
    "\n",
    "# Gradient descent parameters\n",
    "epsilon = 0.01 # learning rate\n",
    "reg_lambda = 0.01 # regularization\n",
    "\n",
    "bufferCaseNum = 100\n",
    "num_examples = bufferCaseNum # training set size"
   ]
  },
  {
   "cell_type": "code",
   "execution_count": null,
   "metadata": {
    "collapsed": false
   },
   "outputs": [],
   "source": [
    "np.random.seed(0)\n",
    "W1 = np.random.randn(nn_input_dim, nn_hdim) / np.sqrt(nn_input_dim)\n",
    "b1 = np.zeros((1, nn_hdim))\n",
    "W2 = np.random.randn(nn_hdim, nn_output_dim) / np.sqrt(nn_hdim)\n",
    "b2 = np.zeros((1, nn_output_dim))\n",
    "fi = open(trainYzxFile, 'r')\n",
    "lineNum = 0\n",
    "trainData = []\n",
    "y = []\n",
    "yp = []\n",
    "nrLines = 0\n",
    "time1 = time.time()\n",
    "for line in fi:\n",
    "    nrLines += 1\n",
    "    lineNum = (lineNum + 1) % bufferCaseNum\n",
    "    trainData.append(ints(line.replace(\":1\", \"\").split()))\n",
    "    if lineNum == 0:\n",
    "        X = np.zeros((bufferCaseNum,nrFeat))\n",
    "        dataLineNum = 0\n",
    "        for data in trainData:\n",
    "            clk = data[0]\n",
    "            y.append(clk)\n",
    "            mp = data[1]\n",
    "            #fsid = 2 # feature start id \n",
    "            fsid = 3 # as all data[2]=0!?!\n",
    "            for i in range(fsid, len(data)):\n",
    "                X[dataLineNum,data[i] - firstFeatNr] = 1\n",
    "            dataLineNum += 1\n",
    "        for i in xrange(0, num_passes):\n",
    "            # Forward propagation\n",
    "            z1 = X.dot(W1) + b1\n",
    "            a1 = np.tanh(z1)\n",
    "            z2 = a1.dot(W2) + b2\n",
    "            exp_scores = np.exp(z2)\n",
    "            probs = exp_scores / np.sum(exp_scores, axis=1, keepdims=True)\n",
    "            if i == num_passes - 1:\n",
    "                yp.extend(probs[:,1])\n",
    "            # Backpropagation\n",
    "            delta3 = probs\n",
    "            delta3[range(num_examples), clk] -= 1\n",
    "            dW2 = (a1.T).dot(delta3)\n",
    "            db2 = np.sum(delta3, axis=0, keepdims=True)\n",
    "            delta2 = delta3.dot(W2.T) * (1 - np.power(a1, 2))\n",
    "            dW1 = np.dot(X.T, delta2)\n",
    "            db1 = np.sum(delta2, axis=0)\n",
    "\n",
    "            # Add regularization terms (b1 and b2 don't have regularization terms)\n",
    "            dW2 += reg_lambda * W2\n",
    "            dW1 += reg_lambda * W1\n",
    "\n",
    "            # Gradient descent parameter update\n",
    "            W1 += -epsilon * dW1\n",
    "            b1 += -epsilon * db1\n",
    "            W2 += -epsilon * dW2\n",
    "            b2 += -epsilon * db2\n",
    "            #print 'Iter:' + '\\t' + str(i) + '\\t' + 'Time:' + '\\t' + str(time1 - time0)\n",
    "        trainData = []\n",
    "time2 = time.time()\n",
    "print 'NN duration:' + '\\t' + str(time2 - time1)\n",
    "auc = roc_auc_score(y, yp)\n",
    "rmse = math.sqrt(mean_squared_error(y, yp))\n",
    "print 'NN Train: ' + '\\t' + str(auc) + '\\t' + str(rmse)\n",
    "fpr, tpr, thresholds = roc_curve(y, yp)\n",
    "# # complete iterations when nr lines < bufferCaseNum\n",
    "# if len(trainData) > 0:\n",
    "#     X = np.zeros((len(trainData),nrFeat))\n",
    "#     for data in trainData:\n",
    "#         clk = data[0] # click\n",
    "#         mp = data[1] # market price\n",
    "#         #fsid = 2 # feature start id\n",
    "#         fsid = 3 # as all data[2]=0!?!\n",
    "#         # predict\n",
    "#         pred = 0.0\n",
    "#         for i in range(fsid, len(data)):\n",
    "#             feat = data[i]\n",
    "#             if feat not in featWeight:\n",
    "#                 featWeight[feat] = nextInitWeight()\n",
    "#             pred += featWeight[feat]\n",
    "#         pred = sigmoid(pred)\n",
    "#         y.append(clk)\n",
    "#         yp.append(pred)\n",
    "#         # start to update weight\n",
    "#         # w_i = w_i + learning_rate * [ (y - p) * x_i - lamb * w_i ]\n",
    "#         for i in range(fsid, len(data)):\n",
    "#             feat = data[i]\n",
    "#             featWeight[feat] = featWeight[feat] * (1 - lamb) + eta * (clk - pred)\n",
    "# auc = roc_auc_score(y, yp)\n",
    "# rmse = math.sqrt(mean_squared_error(y, yp))\n",
    "# print 'NN Train: ' + '\\t' + str(auc) + '\\t' + str(rmse)\n",
    "# # close trainYzxFile\n",
    "fi.close()"
   ]
  },
  {
   "cell_type": "code",
   "execution_count": null,
   "metadata": {
    "collapsed": true
   },
   "outputs": [],
   "source": [
    "plt.figure()\n",
    "lw = 2\n",
    "plt.plot(fpr, tpr, color='darkorange',\n",
    "         lw=lw, label='ROC curve (area = %0.2f)' % auc)\n",
    "plt.plot([0, 1], [0, 1], color='navy', lw=lw, linestyle='--')\n",
    "plt.xlim([0.0, 1.0])\n",
    "plt.ylim([0.0, 1.05])\n",
    "plt.xlabel('False Positive Rate')\n",
    "plt.ylabel('True Positive Rate')\n",
    "plt.title('NN Training Receiver operating characteristic')\n",
    "plt.legend(loc=\"lower right\")\n",
    "plt.show()"
   ]
  },
  {
   "cell_type": "markdown",
   "metadata": {},
   "source": [
    "# Testing: LOGISTIC REGRESSION"
   ]
  },
  {
   "cell_type": "markdown",
   "metadata": {},
   "source": [
    "num_passes = 1\n",
    "NN Train: \t0.530687996247\t0.0910345737046"
   ]
  },
  {
   "cell_type": "code",
   "execution_count": null,
   "metadata": {
    "collapsed": false
   },
   "outputs": [],
   "source": [
    "y = []\n",
    "yp = []\n",
    "fi = open(testYzxFile, 'r')\n",
    "for line in fi:\n",
    "    data = ints(line.replace(\":1\", \"\").split())\n",
    "    clk = data[0] # click\n",
    "    mp = data[1] # market price\n",
    "    fsid = 2 # feature start id\n",
    "    pred = 0.0\n",
    "    for i in range(fsid, len(data)):\n",
    "        feat = data[i]\n",
    "        if feat in featWeight:\n",
    "            pred += featWeight[feat]\n",
    "    pred = sigmoid(pred)\n",
    "    y.append(clk)\n",
    "    yp.append(pred)\n",
    "fi.close()\n",
    "auc = roc_auc_score(y, yp)\n",
    "rmse = math.sqrt(mean_squared_error(y, yp))\n",
    "print 'LR Test: ' + '\\t' + str(round) + '\\t' + str(auc) + '\\t' + str(rmse)\n",
    "fpr, tpr, thresholds = roc_curve(y, yp)\n",
    "\n",
    "# output the weights\n",
    "fo = open(trainYzxFile + '.lr.weight', 'w')\n",
    "featvalue = sorted(featWeight.iteritems(), key=operator.itemgetter(0))\n",
    "for fv in featvalue:\n",
    "    fo.write(str(fv[0]) + '\\t' + str(fv[1]) + '\\n')\n",
    "fo.close()\n",
    "\n",
    "\n",
    "# output the prediction\n",
    "fi = open(testYzxFile, 'r')\n",
    "fo = open(testYzxFile + '.lr.pred', 'w')\n",
    "\n",
    "for line in fi:\n",
    "    data = ints(line.replace(\":1\", \"\").split())\n",
    "    pred = 0.0\n",
    "    for i in range(1, len(data)):\n",
    "        feat = data[i]\n",
    "        if feat in featWeight:\n",
    "            pred += featWeight[feat]\n",
    "    pred = sigmoid(pred)\n",
    "    fo.write(str(pred) + '\\n')    \n",
    "fo.close()\n",
    "fi.close()"
   ]
  },
  {
   "cell_type": "code",
   "execution_count": null,
   "metadata": {
    "collapsed": true
   },
   "outputs": [],
   "source": [
    "plt.figure()\n",
    "lw = 2\n",
    "plt.plot(fpr, tpr, color='darkorange',\n",
    "         lw=lw, label='ROC curve (area = %0.2f)' % auc)\n",
    "plt.plot([0, 1], [0, 1], color='navy', lw=lw, linestyle='--')\n",
    "plt.xlim([0.0, 1.0])\n",
    "plt.ylim([0.0, 1.05])\n",
    "plt.xlabel('False Positive Rate')\n",
    "plt.ylabel('True Positive Rate')\n",
    "plt.title('LR Testing Receiver operating characteristic')\n",
    "plt.legend(loc=\"lower right\")\n",
    "plt.show()"
   ]
  }
 ],
 "metadata": {
  "anaconda-cloud": {},
  "kernelspec": {
   "display_name": "Python [conda root]",
   "language": "python",
   "name": "conda-root-py"
  },
  "language_info": {
   "codemirror_mode": {
    "name": "ipython",
    "version": 2
   },
   "file_extension": ".py",
   "mimetype": "text/x-python",
   "name": "python",
   "nbconvert_exporter": "python",
   "pygments_lexer": "ipython2",
   "version": "2.7.12"
  }
 },
 "nbformat": 4,
 "nbformat_minor": 1
}
