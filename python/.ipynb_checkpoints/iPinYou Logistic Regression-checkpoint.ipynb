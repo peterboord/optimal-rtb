{
 "cells": [
  {
   "cell_type": "code",
   "execution_count": null,
   "metadata": {
    "collapsed": false
   },
   "outputs": [],
   "source": [
    "%pdb on"
   ]
  },
  {
   "cell_type": "code",
   "execution_count": null,
   "metadata": {
    "collapsed": true
   },
   "outputs": [],
   "source": [
    "import sys\n",
    "import random\n",
    "import math\n",
    "import operator\n",
    "from sklearn.metrics import roc_auc_score\n",
    "from sklearn.metrics import mean_squared_error\n",
    "import os.path\n",
    "from IPython.core.debugger import Tracer\n",
    "import numpy as np\n",
    "import matplotlib as mpl\n",
    "from matplotlib import pyplot as plt\n",
    "%matplotlib inline"
   ]
  },
  {
   "cell_type": "code",
   "execution_count": null,
   "metadata": {
    "collapsed": true
   },
   "outputs": [],
   "source": [
    "a=np.zeros([3,2])"
   ]
  },
  {
   "cell_type": "code",
   "execution_count": null,
   "metadata": {
    "collapsed": false
   },
   "outputs": [],
   "source": [
    "a[0,:]=[5,4]"
   ]
  },
  {
   "cell_type": "code",
   "execution_count": null,
   "metadata": {
    "collapsed": false
   },
   "outputs": [],
   "source": [
    "a"
   ]
  },
  {
   "cell_type": "code",
   "execution_count": null,
   "metadata": {
    "collapsed": false
   },
   "outputs": [],
   "source": [
    "campaign=\"2997\"\n",
    "folder='../../make-ipinyou-data'\n",
    "resultsfolder='../results'\n",
    "trainYzxFile=os.path.join(folder,campaign,'train.yzx.txt')\n",
    "testYzxFile=os.path.join(folder,campaign,'test.yzx.txt')"
   ]
  },
  {
   "cell_type": "code",
   "execution_count": null,
   "metadata": {
    "collapsed": true
   },
   "outputs": [],
   "source": [
    "bufferCaseNum = 1000000\n",
    "#bufferCaseNum = 200\n",
    "eta = 0.01 # learning rate\n",
    "lamb = 1E-6 # regularization parameter\n",
    "featWeight = {}\n",
    "trainRounds = 10\n",
    "#trainRounds = 1\n",
    "random.seed(10)\n",
    "initWeight = 0.05\n",
    "\n",
    "def nextInitWeight():\n",
    "    return (random.random() - 0.5) * initWeight\n",
    "def ints(s):\n",
    "    res = []\n",
    "    for ss in s:\n",
    "        res.append(int(ss))\n",
    "    return res\n",
    "def sigmoid(p):\n",
    "    return 1.0 / (1.0 + math.exp(-p))"
   ]
  },
  {
   "cell_type": "code",
   "execution_count": null,
   "metadata": {
    "collapsed": false
   },
   "outputs": [],
   "source": [
    "for round in range(0, trainRounds):\n",
    "    # train for this round\n",
    "    fi = open(trainYzxFile, 'r')\n",
    "    lineNum = 0\n",
    "    trainData = []\n",
    "    y = []\n",
    "    yp = []\n",
    "    for line in fi:\n",
    "        lineNum = (lineNum + 1) % bufferCaseNum\n",
    "        trainData.append(ints(line.replace(\":1\", \"\").split()))\n",
    "        if lineNum == 0:\n",
    "            for data in trainData:\n",
    "                clk = data[0]\n",
    "                mp = data[1]\n",
    "                fsid = 2 # feature start id\n",
    "                # predict\n",
    "                pred = 0.0\n",
    "                for i in range(fsid, len(data)):\n",
    "                    feat = data[i]\n",
    "                    if feat not in featWeight:\n",
    "                        featWeight[feat] = nextInitWeight()\n",
    "                    pred += featWeight[feat]\n",
    "                pred = sigmoid(pred)\n",
    "                y.append(clk)\n",
    "                yp.append(pred)\n",
    "                # start to update weight\n",
    "                # w_i = w_i + learning_rate * [ (y - p) * x_i - lamb * w_i ] \n",
    "                for i in range(fsid, len(data)):\n",
    "                    feat = data[i]\n",
    "                    featWeight[feat] = featWeight[feat] * (1 - lamb) + eta * (clk - pred)\n",
    "            trainData = []\n",
    "    # complete iterations when nr lines < bufferCaseNum\n",
    "    if len(trainData) > 0:\n",
    "        for data in trainData:\n",
    "            clk = data[0] # click\n",
    "            mp = data[1] # market price\n",
    "            fsid = 2 # feature start id\n",
    "            # predict\n",
    "            pred = 0.0\n",
    "            for i in range(fsid, len(data)):\n",
    "                feat = data[i]\n",
    "                if feat not in featWeight:\n",
    "                    featWeight[feat] = nextInitWeight()\n",
    "                pred += featWeight[feat]\n",
    "            pred = sigmoid(pred)\n",
    "            y.append(clk)\n",
    "            yp.append(pred)\n",
    "            # start to update weight\n",
    "            # w_i = w_i + learning_rate * [ (y - p) * x_i - lamb * w_i ]\n",
    "            for i in range(fsid, len(data)):\n",
    "                feat = data[i]\n",
    "                featWeight[feat] = featWeight[feat] * (1 - lamb) + eta * (clk - pred)\n",
    "    fi.close()\n",
    "    auc = roc_auc_score(y, yp)\n",
    "    rmse = math.sqrt(mean_squared_error(y, yp))\n",
    "    print 'Train: ' + '\\t' + str(round) + '\\t' + str(auc) + '\\t' + str(rmse)\n",
    "    \n",
    "    # test for this round\n",
    "    y = []\n",
    "    yp = []\n",
    "    fi = open(testYzxFile, 'r')\n",
    "    for line in fi:\n",
    "        data = ints(line.replace(\":1\", \"\").split())\n",
    "        clk = data[0] # click\n",
    "        mp = data[1] # market price\n",
    "        fsid = 2 # feature start id\n",
    "        pred = 0.0\n",
    "        for i in range(fsid, len(data)):\n",
    "            feat = data[i]\n",
    "            if feat in featWeight:\n",
    "                pred += featWeight[feat]\n",
    "        pred = sigmoid(pred)\n",
    "        y.append(clk)\n",
    "        yp.append(pred)\n",
    "    fi.close()\n",
    "    auc = roc_auc_score(y, yp)\n",
    "    rmse = math.sqrt(mean_squared_error(y, yp))\n",
    "    print 'Test: ' + '\\t' + str(round) + '\\t' + str(auc) + '\\t' + str(rmse)\n",
    "    Tracer()()\n",
    "    \n",
    "# output the weights\n",
    "fo = open(trainYzxFile + '.lr.weight', 'w')\n",
    "featvalue = sorted(featWeight.iteritems(), key=operator.itemgetter(0))\n",
    "for fv in featvalue:\n",
    "    fo.write(str(fv[0]) + '\\t' + str(fv[1]) + '\\n')\n",
    "fo.close()\n",
    "\n",
    "\n",
    "# output the prediction\n",
    "fi = open(testYzxFile, 'r')\n",
    "fo = open(testYzxFile + '.lr.pred', 'w')\n",
    "\n",
    "for line in fi:\n",
    "    data = ints(line.replace(\":1\", \"\").split())\n",
    "    pred = 0.0\n",
    "    for i in range(1, len(data)):\n",
    "        feat = data[i]\n",
    "        if feat in featWeight:\n",
    "            pred += featWeight[feat]\n",
    "    pred = sigmoid(pred)\n",
    "    fo.write(str(pred) + '\\n')    \n",
    "fo.close()\n",
    "fi.close()\n",
    "\n",
    "\n",
    "\n"
   ]
  },
  {
   "cell_type": "markdown",
   "metadata": {},
   "source": [
    "eta = 0.01 # learning rate\n",
    "lamb = 1E-6 # regularization parameter\n",
    "0\t0.602293015776\t0.0581610175761\n",
    "1\t0.605309575144\t0.0581604886761\n",
    "2\t0.60586774705\t0.0581606929815\n",
    "3\t0.606052831839\t0.0581612808149\n",
    "4\t0.60611824294\t0.0581622062518\n",
    "5\t0.605952622564\t0.0581634308069\n",
    "6\t0.605726667968\t0.0581649071177\n",
    "7\t0.605290935649\t0.0581665820742\n",
    "8\t0.604877688397\t0.0581684017922\n",
    "9\t0.604405592989\t0.0581703155207"
   ]
  },
  {
   "cell_type": "code",
   "execution_count": null,
   "metadata": {
    "collapsed": false
   },
   "outputs": [],
   "source": [
    "len(clkPred)"
   ]
  },
  {
   "cell_type": "code",
   "execution_count": null,
   "metadata": {
    "collapsed": false
   },
   "outputs": [],
   "source": [
    "type(clkPred)"
   ]
  },
  {
   "cell_type": "code",
   "execution_count": null,
   "metadata": {
    "collapsed": false
   },
   "outputs": [],
   "source": [
    "clkTime=clkPred[:,0]\n",
    "predTime=clkPred[:,1]\n",
    "plt.plot(clkTime)\n",
    "plt.plot(predTime)\n",
    "yRange=clkPred.max() - clkPred.min()\n",
    "plt.ylim(clkPred.min() - 0.1*yRange, clkPred.max() + 0.1*yRange)"
   ]
  },
  {
   "cell_type": "code",
   "execution_count": null,
   "metadata": {
    "collapsed": false
   },
   "outputs": [],
   "source": [
    "fi = open(trainYzxFile, 'r')\n",
    "type(fi)"
   ]
  },
  {
   "cell_type": "code",
   "execution_count": null,
   "metadata": {
    "collapsed": false
   },
   "outputs": [],
   "source": [
    "help(\"file\")"
   ]
  }
 ],
 "metadata": {
  "anaconda-cloud": {},
  "kernelspec": {
   "display_name": "Python [conda root]",
   "language": "python",
   "name": "conda-root-py"
  },
  "language_info": {
   "codemirror_mode": {
    "name": "ipython",
    "version": 2
   },
   "file_extension": ".py",
   "mimetype": "text/x-python",
   "name": "python",
   "nbconvert_exporter": "python",
   "pygments_lexer": "ipython2",
   "version": "2.7.12"
  }
 },
 "nbformat": 4,
 "nbformat_minor": 1
}
