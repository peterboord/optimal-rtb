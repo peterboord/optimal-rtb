{
 "cells": [
  {
   "cell_type": "code",
   "execution_count": 1,
   "metadata": {
    "collapsed": false
   },
   "outputs": [
    {
     "name": "stdout",
     "output_type": "stream",
     "text": [
      "Automatic pdb calling has been turned ON\n"
     ]
    }
   ],
   "source": [
    "%pdb on"
   ]
  },
  {
   "cell_type": "code",
   "execution_count": 2,
   "metadata": {
    "collapsed": true
   },
   "outputs": [],
   "source": [
    "import sys\n",
    "import random\n",
    "import math\n",
    "import operator\n",
    "from sklearn.metrics import roc_auc_score\n",
    "from sklearn.metrics import mean_squared_error\n",
    "import os.path\n",
    "from IPython.core.debugger import Tracer"
   ]
  },
  {
   "cell_type": "code",
   "execution_count": 3,
   "metadata": {
    "collapsed": false
   },
   "outputs": [],
   "source": [
    "campaign=\"2997\"\n",
    "folder='../../make-ipinyou-data'\n",
    "resultsfolder='../results'\n",
    "trainFile=os.path.join(folder,campaign,'train.yzx.txt')\n",
    "testFile=os.path.join(folder,campaign,'test.yzx.txt')"
   ]
  },
  {
   "cell_type": "code",
   "execution_count": null,
   "metadata": {
    "collapsed": true
   },
   "outputs": [],
   "source": [
    "bufferCaseNum = 1000000\n",
    "eta = 0.01\n",
    "lamb = 1E-6\n",
    "featWeight = {}\n",
    "trainRounds = 10\n",
    "random.seed(10)\n",
    "initWeight = 0.05\n",
    "\n",
    "def nextInitWeight():\n",
    "    return (random.random() - 0.5) * initWeight\n",
    "def ints(s):\n",
    "    res = []\n",
    "    for ss in s:\n",
    "        res.append(int(ss))\n",
    "    return res\n",
    "def sigmoid(p):\n",
    "    return 1.0 / (1.0 + math.exp(-p))"
   ]
  },
  {
   "cell_type": "code",
   "execution_count": null,
   "metadata": {
    "collapsed": false
   },
   "outputs": [
    {
     "name": "stdout",
     "output_type": "stream",
     "text": [
      "> \u001b[0;32m<ipython-input-5-34664c4366fd>\u001b[0m(8)\u001b[0;36m<module>\u001b[0;34m()\u001b[0m\n",
      "\u001b[0;32m      6 \u001b[0;31m    \u001b[0;32mfor\u001b[0m \u001b[0mline\u001b[0m \u001b[0;32min\u001b[0m \u001b[0mfi\u001b[0m\u001b[0;34m:\u001b[0m\u001b[0;34m\u001b[0m\u001b[0m\n",
      "\u001b[0m\u001b[0;32m      7 \u001b[0;31m        \u001b[0mTracer\u001b[0m\u001b[0;34m(\u001b[0m\u001b[0;34m)\u001b[0m\u001b[0;34m(\u001b[0m\u001b[0;34m)\u001b[0m\u001b[0;34m\u001b[0m\u001b[0m\n",
      "\u001b[0m\u001b[0;32m----> 8 \u001b[0;31m        \u001b[0mlineNum\u001b[0m \u001b[0;34m=\u001b[0m \u001b[0;34m(\u001b[0m\u001b[0mlineNum\u001b[0m \u001b[0;34m+\u001b[0m \u001b[0;36m1\u001b[0m\u001b[0;34m)\u001b[0m \u001b[0;34m%\u001b[0m \u001b[0mbufferCaseNum\u001b[0m\u001b[0;34m\u001b[0m\u001b[0m\n",
      "\u001b[0m\u001b[0;32m      9 \u001b[0;31m        \u001b[0mtrainData\u001b[0m\u001b[0;34m.\u001b[0m\u001b[0mappend\u001b[0m\u001b[0;34m(\u001b[0m\u001b[0mints\u001b[0m\u001b[0;34m(\u001b[0m\u001b[0mline\u001b[0m\u001b[0;34m.\u001b[0m\u001b[0mreplace\u001b[0m\u001b[0;34m(\u001b[0m\u001b[0;34m\":1\"\u001b[0m\u001b[0;34m,\u001b[0m \u001b[0;34m\"\"\u001b[0m\u001b[0;34m)\u001b[0m\u001b[0;34m.\u001b[0m\u001b[0msplit\u001b[0m\u001b[0;34m(\u001b[0m\u001b[0;34m)\u001b[0m\u001b[0;34m)\u001b[0m\u001b[0;34m)\u001b[0m\u001b[0;34m\u001b[0m\u001b[0m\n",
      "\u001b[0m\u001b[0;32m     10 \u001b[0;31m        \u001b[0;32mif\u001b[0m \u001b[0mlineNum\u001b[0m \u001b[0;34m==\u001b[0m \u001b[0;36m0\u001b[0m\u001b[0;34m:\u001b[0m\u001b[0;34m\u001b[0m\u001b[0m\n",
      "\u001b[0m\n"
     ]
    }
   ],
   "source": [
    "for round in range(0, trainRounds):\n",
    "    # train for this round\n",
    "    fi = open(trainFile, 'r')\n",
    "    lineNum = 0\n",
    "    trainData = []\n",
    "    for line in fi:\n",
    "        Tracer()()\n",
    "        lineNum = (lineNum + 1) % bufferCaseNum\n",
    "        trainData.append(ints(line.replace(\":1\", \"\").split()))\n",
    "        if lineNum == 0:\n",
    "            for data in trainData:\n",
    "                clk = data[0]\n",
    "                mp = data[1]\n",
    "                fsid = 2 # feature start id\n",
    "                # predict\n",
    "                pred = 0.0\n",
    "                for i in range(fsid, len(data)):\n",
    "                    feat = data[i]\n",
    "                    if feat not in featWeight:\n",
    "                        featWeight[feat] = nextInitWeight()\n",
    "                    pred += featWeight[feat]\n",
    "                pred = sigmoid(pred)\n",
    "                # start to update weight\n",
    "                # w_i = w_i + learning_rate * [ (y - p) * x_i - lamb * w_i ] \n",
    "                for i in range(fsid, len(data)):\n",
    "                    feat = data[i]\n",
    "                    featWeight[feat] = featWeight[feat] * (1 - lamb) + eta * (clk - pred)\n",
    "            trainData = []\n",
    "\n",
    "    if len(trainData) > 0:\n",
    "        for data in trainData:\n",
    "            clk = data[0]\n",
    "            mp = data[1]\n",
    "            fsid = 2 # feature start id\n",
    "            # predict\n",
    "            pred = 0.0\n",
    "            for i in range(fsid, len(data)):\n",
    "                feat = data[i]\n",
    "                if feat not in featWeight:\n",
    "                    featWeight[feat] = nextInitWeight()\n",
    "                pred += featWeight[feat]\n",
    "            pred = sigmoid(pred)\n",
    "            # start to update weight\n",
    "            # w_i = w_i + learning_rate * [ (y - p) * x_i - lamb * w_i ]\n",
    "            for i in range(fsid, len(data)):\n",
    "                feat = data[i]\n",
    "                featWeight[feat] = featWeight[feat] * (1 - lamb) + eta * (clk - pred)\n",
    "    fi.close()\n",
    "\n",
    "    # test for this round\n",
    "    y = []\n",
    "    yp = []\n",
    "    fi = open(testFile, 'r')\n",
    "    for line in fi:\n",
    "        data = ints(line.replace(\":1\", \"\").split())\n",
    "        clk = data[0]\n",
    "        mp = data[1]\n",
    "        fsid = 2 # feature start id\n",
    "        pred = 0.0\n",
    "        for i in range(fsid, len(data)):\n",
    "            feat = data[i]\n",
    "            if feat in featWeight:\n",
    "                pred += featWeight[feat]\n",
    "        pred = sigmoid(pred)\n",
    "        y.append(clk)\n",
    "        yp.append(pred)\n",
    "    fi.close()\n",
    "    auc = roc_auc_score(y, yp)\n",
    "    rmse = math.sqrt(mean_squared_error(y, yp))\n",
    "    print str(round) + '\\t' + str(auc) + '\\t' + str(rmse)\n",
    "\n",
    "# output the weights\n",
    "fo = open(trainFile + '.lr.weight', 'w')\n",
    "featvalue = sorted(featWeight.iteritems(), key=operator.itemgetter(0))\n",
    "for fv in featvalue:\n",
    "    fo.write(str(fv[0]) + '\\t' + str(fv[1]) + '\\n')\n",
    "fo.close()\n",
    "\n",
    "\n",
    "# output the prediction\n",
    "fi = open(testFile, 'r')\n",
    "fo = open(testFile + '.lr.pred', 'w')\n",
    "\n",
    "for line in fi:\n",
    "    data = ints(line.replace(\":1\", \"\").split())\n",
    "    pred = 0.0\n",
    "    for i in range(1, len(data)):\n",
    "        feat = data[i]\n",
    "        if feat in featWeight:\n",
    "            pred += featWeight[feat]\n",
    "    pred = sigmoid(pred)\n",
    "    fo.write(str(pred) + '\\n')    \n",
    "fo.close()\n",
    "fi.close()\n",
    "\n",
    "\n",
    "\n"
   ]
  },
  {
   "cell_type": "code",
   "execution_count": null,
   "metadata": {
    "collapsed": true
   },
   "outputs": [],
   "source": []
  }
 ],
 "metadata": {
  "anaconda-cloud": {},
  "kernelspec": {
   "display_name": "Python [conda root]",
   "language": "python",
   "name": "conda-root-py"
  },
  "language_info": {
   "codemirror_mode": {
    "name": "ipython",
    "version": 2
   },
   "file_extension": ".py",
   "mimetype": "text/x-python",
   "name": "python",
   "nbconvert_exporter": "python",
   "pygments_lexer": "ipython2",
   "version": "2.7.12"
  }
 },
 "nbformat": 4,
 "nbformat_minor": 1
}
